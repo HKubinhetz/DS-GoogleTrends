{
  "cells": [
    {
      "cell_type": "markdown",
      "metadata": {
        "id": "view-in-github",
        "colab_type": "text"
      },
      "source": [
        "<a href=\"https://colab.research.google.com/github/HKubinhetz/DS-GoogleTrends/blob/main/Google_Trends_and_Data_Visualisation_(start).ipynb\" target=\"_parent\"><img src=\"https://colab.research.google.com/assets/colab-badge.svg\" alt=\"Open In Colab\"/></a>"
      ]
    },
    {
      "cell_type": "markdown",
      "metadata": {
        "id": "4e9tVJvx66gr"
      },
      "source": [
        "# Introduction"
      ]
    },
    {
      "cell_type": "markdown",
      "metadata": {
        "id": "X7tsoEm966gu"
      },
      "source": [
        "Google Trends gives us an estimate of search volume. Let's explore if search popularity relates to other kinds of data. Perhaps there are patterns in Google's search volume and the price of Bitcoin or a hot stock like Tesla. Perhaps search volume for the term \"Unemployment Benefits\" can tell us something about the actual unemployment rate? \n",
        "\n",
        "Data Sources: <br>\n",
        "<ul>\n",
        "<li> <a href=\"https://fred.stlouisfed.org/series/UNRATE/\">Unemployment Rate from FRED</a></li>\n",
        "<li> <a href=\"https://trends.google.com/trends/explore\">Google Trends</a> </li>  \n",
        "<li> <a href=\"https://finance.yahoo.com/quote/TSLA/history?p=TSLA\">Yahoo Finance for Tesla Stock Price</a> </li>    \n",
        "<li> <a href=\"https://finance.yahoo.com/quote/BTC-USD/history?p=BTC-USD\">Yahoo Finance for Bitcoin Stock Price</a> </li>\n",
        "</ul>"
      ]
    },
    {
      "cell_type": "markdown",
      "metadata": {
        "id": "93Kilc5n66gv"
      },
      "source": [
        "# Import Statements"
      ]
    },
    {
      "cell_type": "code",
      "execution_count": 1,
      "metadata": {
        "colab": {
          "base_uri": "https://localhost:8080/"
        },
        "id": "Sn_zENtO66gv",
        "outputId": "0fbd5675-ffb6-42f0-b716-33db18bfc565"
      },
      "outputs": [
        {
          "output_type": "stream",
          "name": "stdout",
          "text": [
            "Mounted at /content/drive\n"
          ]
        }
      ],
      "source": [
        "import pandas as pd\n",
        "import matplotlib.pyplot as plt\n",
        "from google.colab import drive\n",
        "drive.mount('/content/drive')\n"
      ]
    },
    {
      "cell_type": "markdown",
      "metadata": {
        "id": "Ejdb1b9D66gw"
      },
      "source": [
        "# Read the Data\n",
        "\n",
        "Download and add the .csv files to the same folder as your notebook."
      ]
    },
    {
      "cell_type": "code",
      "execution_count": 9,
      "metadata": {
        "id": "zfdhgdZ366gx"
      },
      "outputs": [],
      "source": [
        "df_tesla = pd.read_csv('/content/drive/MyDrive/PythonDS/04 - Google Trends/TESLA Search Trend vs Price.csv')\n",
        "df_tesla.name = \"Tesla Trends\"\n",
        "\n",
        "df_btc_search = pd.read_csv('/content/drive/MyDrive/PythonDS/04 - Google Trends/Bitcoin Search Trend.csv')\n",
        "df_btc_search.name = \"BTC Searches\"\n",
        "\n",
        "df_btc_price = pd.read_csv('/content/drive/MyDrive/PythonDS/04 - Google Trends/Daily Bitcoin Price.csv')\n",
        "df_btc_price.name = \"BTC Prices\"\n",
        "\n",
        "df_unemployment_19 = pd.read_csv('/content/drive/MyDrive/PythonDS/04 - Google Trends/UE Benefits Search vs UE Rate 2004-19.csv')\n",
        "df_unemployment_19.name = \"UE 19 Trends\"\n",
        "\n",
        "df_unemployment_20 = pd.read_csv('/content/drive/MyDrive/PythonDS/04 - Google Trends/UE Benefits Search vs UE Rate 2004-20.csv')\n",
        "df_unemployment_20.name = \"UE 20 Trends\"\n",
        "\n",
        "df_list = [df_tesla, df_btc_search, df_btc_price, df_unemployment_19, df_unemployment_20]"
      ]
    },
    {
      "cell_type": "markdown",
      "metadata": {
        "id": "6uSNGSBn66gx"
      },
      "source": [
        "# Data Exploration"
      ]
    },
    {
      "cell_type": "markdown",
      "metadata": {
        "id": "Tyrb_hVE66gy"
      },
      "source": [
        "**Challenge**: <br>\n",
        "<ul>\n",
        "<li>What are the shapes of the dataframes? </li>\n",
        "<li>How many rows and columns? </li>\n",
        "<li>What are the column names? </li>\n",
        "<li>Complete the f-string to show the largest/smallest number in the search data column</li> \n",
        "<li>Try the <code>.describe()</code> function to see some useful descriptive statistics</li>\n",
        "<li>What is the periodicity of the time series data (daily, weekly, monthly)? </li>\n",
        "<li>What does a value of 100 in the Google Trend search popularity actually mean?</li>\n",
        "</ul>"
      ]
    },
    {
      "cell_type": "code",
      "source": [
        "# Studying every Dataframe in the project.\n",
        "\n",
        "for dataframe in df_list:\n",
        "  print(f\"----------{dataframe.name}----------\")\n",
        "  print(f\"The shape of the {dataframe.name} dataframe is {dataframe.shape}\")\n",
        "  print(f\"Meaning there are {dataframe.shape[0]} rows and {dataframe.shape[1]} columns in its composition.\")\n",
        "  print(f\"The columns of this Dataframe are: {dataframe.columns.values}.\")\n",
        "  print(f\"{dataframe.describe()}\")\n",
        "  print(f\"\")\n",
        "  print(f\"\")"
      ],
      "metadata": {
        "colab": {
          "base_uri": "https://localhost:8080/"
        },
        "id": "mXHWjwuR_ClL",
        "outputId": "e9d0a050-5746-4f81-e3c0-37e30c059c91"
      },
      "execution_count": 23,
      "outputs": [
        {
          "output_type": "stream",
          "name": "stdout",
          "text": [
            "----------Tesla Trends----------\n",
            "The shape of the Tesla Trends dataframe is (124, 3)\n",
            "Meaning there are 124 rows and 3 columns in its composition.\n",
            "The columns of this Dataframe are: ['MONTH' 'TSLA_WEB_SEARCH' 'TSLA_USD_CLOSE'].\n",
            "       TSLA_WEB_SEARCH  TSLA_USD_CLOSE\n",
            "count       124.000000      124.000000\n",
            "mean          8.725806       50.962145\n",
            "std           5.870332       65.908389\n",
            "min           2.000000        3.896000\n",
            "25%           3.750000        7.352500\n",
            "50%           8.000000       44.653000\n",
            "75%          12.000000       58.991999\n",
            "max          31.000000      498.320007\n",
            "\n",
            "\n",
            "----------BTC Searches----------\n",
            "The shape of the BTC Searches dataframe is (73, 2)\n",
            "Meaning there are 73 rows and 2 columns in its composition.\n",
            "The columns of this Dataframe are: ['MONTH' 'BTC_NEWS_SEARCH'].\n",
            "       BTC_NEWS_SEARCH\n",
            "count        73.000000\n",
            "mean         15.013699\n",
            "std          15.146959\n",
            "min           3.000000\n",
            "25%           5.000000\n",
            "50%          14.000000\n",
            "75%          18.000000\n",
            "max         100.000000\n",
            "\n",
            "\n",
            "----------BTC Prices----------\n",
            "The shape of the BTC Prices dataframe is (2204, 3)\n",
            "Meaning there are 2204 rows and 3 columns in its composition.\n",
            "The columns of this Dataframe are: ['DATE' 'CLOSE' 'VOLUME'].\n",
            "              CLOSE        VOLUME\n",
            "count   2203.000000  2.203000e+03\n",
            "mean    4429.421245  8.043622e+09\n",
            "std     4148.150071  1.176529e+10\n",
            "min      178.102997  5.914570e+06\n",
            "25%      433.629502  6.029915e+07\n",
            "50%     3637.520020  2.018890e+09\n",
            "75%     7997.372803  1.322478e+10\n",
            "max    19497.400391  7.415677e+10\n",
            "\n",
            "\n",
            "----------UE 19 Trends----------\n",
            "The shape of the UE 19 Trends dataframe is (181, 3)\n",
            "Meaning there are 181 rows and 3 columns in its composition.\n",
            "The columns of this Dataframe are: ['MONTH' 'UE_BENEFITS_WEB_SEARCH' 'UNRATE'].\n",
            "       UE_BENEFITS_WEB_SEARCH      UNRATE\n",
            "count              181.000000  181.000000\n",
            "mean                35.110497    6.217680\n",
            "std                 20.484925    1.891859\n",
            "min                 14.000000    3.700000\n",
            "25%                 21.000000    4.700000\n",
            "50%                 26.000000    5.400000\n",
            "75%                 45.000000    7.800000\n",
            "max                100.000000   10.000000\n",
            "\n",
            "\n",
            "----------UE 20 Trends----------\n",
            "The shape of the UE 20 Trends dataframe is (200, 3)\n",
            "Meaning there are 200 rows and 3 columns in its composition.\n",
            "The columns of this Dataframe are: ['MONTH' 'UE_BENEFITS_WEB_SEARCH' 'UNRATE'].\n",
            "       UE_BENEFITS_WEB_SEARCH      UNRATE\n",
            "count              200.000000  200.000000\n",
            "mean                10.315000    6.173000\n",
            "std                 10.778061    2.128267\n",
            "min                  4.000000    3.500000\n",
            "25%                  5.000000    4.600000\n",
            "50%                  7.000000    5.400000\n",
            "75%                 12.000000    7.825000\n",
            "max                100.000000   14.700000\n",
            "\n",
            "\n"
          ]
        }
      ]
    },
    {
      "cell_type": "markdown",
      "metadata": {
        "id": "O6rZyVpE66gy"
      },
      "source": [
        "### Tesla"
      ]
    },
    {
      "cell_type": "code",
      "execution_count": null,
      "metadata": {
        "id": "yFAGBm2Y66gz"
      },
      "outputs": [],
      "source": [
        ""
      ]
    },
    {
      "cell_type": "code",
      "execution_count": null,
      "metadata": {
        "id": "X2Ua0g_S66g0",
        "outputId": "a6bd86f1-e063-4141-b728-04ff083e5637"
      },
      "outputs": [
        {
          "name": "stdout",
          "output_type": "stream",
          "text": [
            "Largest value for Tesla in Web Search: \n",
            "Smallest value for Tesla in Web Search: \n"
          ]
        }
      ],
      "source": [
        "print(f'Largest value for Tesla in Web Search: ')\n",
        "print(f'Smallest value for Tesla in Web Search: ')"
      ]
    },
    {
      "cell_type": "code",
      "execution_count": null,
      "metadata": {
        "id": "40IVYoHg66g1"
      },
      "outputs": [],
      "source": [
        ""
      ]
    },
    {
      "cell_type": "markdown",
      "metadata": {
        "id": "hfNGTX9p66g1"
      },
      "source": [
        "### Unemployment Data"
      ]
    },
    {
      "cell_type": "code",
      "execution_count": null,
      "metadata": {
        "id": "4Ciw1yUG66g1"
      },
      "outputs": [],
      "source": [
        ""
      ]
    },
    {
      "cell_type": "code",
      "execution_count": null,
      "metadata": {
        "id": "JW6UQvTJ66g1",
        "outputId": "f3748087-4c9e-44de-ff11-253d0fad506d"
      },
      "outputs": [
        {
          "name": "stdout",
          "output_type": "stream",
          "text": [
            "Largest value for \"Unemployemnt Benefits\" in Web Search: \n"
          ]
        }
      ],
      "source": [
        "print('Largest value for \"Unemployemnt Benefits\" '\n",
        "      f'in Web Search: ')"
      ]
    },
    {
      "cell_type": "markdown",
      "metadata": {
        "id": "C0HOckQO66g2"
      },
      "source": [
        "### Bitcoin"
      ]
    },
    {
      "cell_type": "code",
      "execution_count": null,
      "metadata": {
        "id": "oTZiU4S966g2"
      },
      "outputs": [],
      "source": [
        ""
      ]
    },
    {
      "cell_type": "code",
      "execution_count": null,
      "metadata": {
        "id": "qOXKWxUI66g2"
      },
      "outputs": [],
      "source": [
        ""
      ]
    },
    {
      "cell_type": "code",
      "execution_count": null,
      "metadata": {
        "id": "h6WVYCIS66g3",
        "outputId": "621481ad-65f6-4965-e034-62ecdd3f752f"
      },
      "outputs": [
        {
          "name": "stdout",
          "output_type": "stream",
          "text": [
            "largest BTC News Search: \n"
          ]
        }
      ],
      "source": [
        "print(f'largest BTC News Search: ')"
      ]
    },
    {
      "cell_type": "markdown",
      "metadata": {
        "id": "e5F3mOed66g3"
      },
      "source": [
        "# Data Cleaning"
      ]
    },
    {
      "cell_type": "markdown",
      "metadata": {
        "id": "qXjkb2iz66g3"
      },
      "source": [
        "### Check for Missing Values"
      ]
    },
    {
      "cell_type": "markdown",
      "metadata": {
        "id": "4looSNY366g3"
      },
      "source": [
        "**Challenge**: Are there any missing values in any of the dataframes? If so, which row/rows have missing values? How many missing values are there?"
      ]
    },
    {
      "cell_type": "code",
      "execution_count": null,
      "metadata": {
        "id": "AG82-G1d66g3",
        "outputId": "9648f620-f745-46aa-f8fe-430f456eb58c"
      },
      "outputs": [
        {
          "name": "stdout",
          "output_type": "stream",
          "text": [
            "Missing values for Tesla?: \n",
            "Missing values for U/E?: \n",
            "Missing values for BTC Search?: \n"
          ]
        }
      ],
      "source": [
        "print(f'Missing values for Tesla?: ')\n",
        "print(f'Missing values for U/E?: ')\n",
        "print(f'Missing values for BTC Search?: ')"
      ]
    },
    {
      "cell_type": "code",
      "execution_count": null,
      "metadata": {
        "id": "0uYYwINs66g4",
        "outputId": "4804f238-dc5f-44e7-dabc-ce0a8ee532c8"
      },
      "outputs": [
        {
          "name": "stdout",
          "output_type": "stream",
          "text": [
            "Missing values for BTC price?: \n"
          ]
        }
      ],
      "source": [
        "print(f'Missing values for BTC price?: ')"
      ]
    },
    {
      "cell_type": "code",
      "execution_count": null,
      "metadata": {
        "id": "Wb4BlgNp66g4",
        "outputId": "b83725b0-1656-4475-acf6-3a3da12bea0c"
      },
      "outputs": [
        {
          "name": "stdout",
          "output_type": "stream",
          "text": [
            "Number of missing values: \n"
          ]
        }
      ],
      "source": [
        "print(f'Number of missing values: ')"
      ]
    },
    {
      "cell_type": "markdown",
      "metadata": {
        "id": "Ed8wtaa_66g4"
      },
      "source": [
        "**Challenge**: Remove any missing values that you found. "
      ]
    },
    {
      "cell_type": "code",
      "execution_count": null,
      "metadata": {
        "id": "q7268qzf66g5"
      },
      "outputs": [],
      "source": [
        ""
      ]
    },
    {
      "cell_type": "markdown",
      "metadata": {
        "id": "qTXv-sGJ66g5"
      },
      "source": [
        "### Convert Strings to DateTime Objects"
      ]
    },
    {
      "cell_type": "markdown",
      "metadata": {
        "id": "SDiqojTF66g5"
      },
      "source": [
        "**Challenge**: Check the data type of the entries in the DataFrame MONTH or DATE columns. Convert any strings in to Datetime objects. Do this for all 4 DataFrames. Double check if your type conversion was successful."
      ]
    },
    {
      "cell_type": "code",
      "execution_count": null,
      "metadata": {
        "id": "U3oUkj5q66g5"
      },
      "outputs": [],
      "source": [
        ""
      ]
    },
    {
      "cell_type": "code",
      "execution_count": null,
      "metadata": {
        "id": "QhR85DEk66g5"
      },
      "outputs": [],
      "source": [
        ""
      ]
    },
    {
      "cell_type": "code",
      "execution_count": null,
      "metadata": {
        "id": "inZUS-mO66g5"
      },
      "outputs": [],
      "source": [
        ""
      ]
    },
    {
      "cell_type": "markdown",
      "metadata": {
        "id": "kTJa9N2R66g5"
      },
      "source": [
        "### Converting from Daily to Monthly Data\n",
        "\n",
        "[Pandas .resample() documentation](https://pandas.pydata.org/pandas-docs/stable/reference/api/pandas.DataFrame.resample.html) <br>"
      ]
    },
    {
      "cell_type": "code",
      "execution_count": null,
      "metadata": {
        "id": "04QZi90U66g5"
      },
      "outputs": [],
      "source": [
        ""
      ]
    },
    {
      "cell_type": "code",
      "execution_count": null,
      "metadata": {
        "id": "ARfnvg0M66g6"
      },
      "outputs": [],
      "source": [
        ""
      ]
    },
    {
      "cell_type": "markdown",
      "metadata": {
        "id": "gaECvdbZ66g6"
      },
      "source": [
        "# Data Visualisation"
      ]
    },
    {
      "cell_type": "markdown",
      "metadata": {
        "id": "uO5s1dmr66g6"
      },
      "source": [
        "### Notebook Formatting & Style Helpers"
      ]
    },
    {
      "cell_type": "code",
      "execution_count": null,
      "metadata": {
        "id": "IsAnbzbW66g6"
      },
      "outputs": [],
      "source": [
        "# Create locators for ticks on the time axis"
      ]
    },
    {
      "cell_type": "code",
      "execution_count": null,
      "metadata": {
        "id": "TjdPawIH66g6"
      },
      "outputs": [],
      "source": [
        "# Register date converters to avoid warning messages"
      ]
    },
    {
      "cell_type": "markdown",
      "metadata": {
        "id": "fdIKCwyj66g6"
      },
      "source": [
        "### Tesla Stock Price v.s. Search Volume"
      ]
    },
    {
      "cell_type": "markdown",
      "metadata": {
        "id": "FJRQdOyP66g7"
      },
      "source": [
        "**Challenge:** Plot the Tesla stock price against the Tesla search volume using a line chart and two different axes. Label one axis 'TSLA Stock Price' and the other 'Search Trend'. "
      ]
    },
    {
      "cell_type": "code",
      "execution_count": null,
      "metadata": {
        "id": "-vLJ05V-66g7"
      },
      "outputs": [],
      "source": [
        ""
      ]
    },
    {
      "cell_type": "markdown",
      "metadata": {
        "id": "akRUNgZw66g7"
      },
      "source": [
        "**Challenge**: Add colours to style the chart. This will help differentiate the two lines and the axis labels. Try using one of the blue [colour names](https://matplotlib.org/3.1.1/gallery/color/named_colors.html) for the search volume and a HEX code for a red colour for the stock price. \n",
        "<br>\n",
        "<br>\n",
        "Hint: you can colour both the [axis labels](https://matplotlib.org/3.3.2/api/text_api.html#matplotlib.text.Text) and the [lines](https://matplotlib.org/3.2.1/api/_as_gen/matplotlib.lines.Line2D.html#matplotlib.lines.Line2D) on the chart using keyword arguments (kwargs).  "
      ]
    },
    {
      "cell_type": "code",
      "execution_count": null,
      "metadata": {
        "id": "H1dsWZCF66g7"
      },
      "outputs": [],
      "source": [
        ""
      ]
    },
    {
      "cell_type": "markdown",
      "metadata": {
        "id": "hkEvLFC866g7"
      },
      "source": [
        "**Challenge**: Make the chart larger and easier to read. \n",
        "1. Increase the figure size (e.g., to 14 by 8). \n",
        "2. Increase the font sizes for the labels and the ticks on the x-axis to 14. \n",
        "3. Rotate the text on the x-axis by 45 degrees. \n",
        "4. Make the lines on the chart thicker. \n",
        "5. Add a title that reads 'Tesla Web Search vs Price'\n",
        "6. Keep the chart looking sharp by changing the dots-per-inch or [DPI value](https://matplotlib.org/3.1.1/api/_as_gen/matplotlib.pyplot.figure.html). \n",
        "7. Set minimum and maximum values for the y and x axis. Hint: check out methods like [set_xlim()](https://matplotlib.org/3.1.1/api/_as_gen/matplotlib.axes.Axes.set_xlim.html). \n",
        "8. Finally use [plt.show()](https://matplotlib.org/3.2.1/api/_as_gen/matplotlib.pyplot.show.html) to display the chart below the cell instead of relying on the automatic notebook output."
      ]
    },
    {
      "cell_type": "code",
      "execution_count": null,
      "metadata": {
        "id": "YnMxyKcc66g7"
      },
      "outputs": [],
      "source": [
        ""
      ]
    },
    {
      "cell_type": "markdown",
      "metadata": {
        "id": "t6sv1D3l66g8"
      },
      "source": [
        "How to add tick formatting for dates on the x-axis. "
      ]
    },
    {
      "cell_type": "code",
      "execution_count": null,
      "metadata": {
        "id": "GwFfDZWA66g8"
      },
      "outputs": [],
      "source": [
        ""
      ]
    },
    {
      "cell_type": "markdown",
      "metadata": {
        "id": "C6Hkjz0766g8"
      },
      "source": [
        "### Bitcoin (BTC) Price v.s. Search Volume"
      ]
    },
    {
      "cell_type": "markdown",
      "metadata": {
        "id": "1yi2RtQj66g8"
      },
      "source": [
        "**Challenge**: Create the same chart for the Bitcoin Prices vs. Search volumes. <br>\n",
        "1. Modify the chart title to read 'Bitcoin News Search vs Resampled Price' <br>\n",
        "2. Change the y-axis label to 'BTC Price' <br>\n",
        "3. Change the y- and x-axis limits to improve the appearance <br>\n",
        "4. Investigate the [linestyles](https://matplotlib.org/3.2.1/api/_as_gen/matplotlib.pyplot.plot.html ) to make the BTC price a dashed line <br>\n",
        "5. Investigate the [marker types](https://matplotlib.org/3.2.1/api/markers_api.html) to make the search datapoints little circles <br>\n",
        "6. Were big increases in searches for Bitcoin accompanied by big increases in the price?"
      ]
    },
    {
      "cell_type": "code",
      "execution_count": null,
      "metadata": {
        "id": "qEfKyaya66g8"
      },
      "outputs": [],
      "source": [
        ""
      ]
    },
    {
      "cell_type": "code",
      "execution_count": null,
      "metadata": {
        "id": "6S4yQUsp66g8"
      },
      "outputs": [],
      "source": [
        ""
      ]
    },
    {
      "cell_type": "markdown",
      "metadata": {
        "id": "TVEbNmAp66g8"
      },
      "source": [
        "### Unemployement Benefits Search vs. Actual Unemployment in the U.S."
      ]
    },
    {
      "cell_type": "markdown",
      "metadata": {
        "id": "r7FCeuJK66g8"
      },
      "source": [
        "**Challenge** Plot the search for \"unemployment benefits\" against the unemployment rate. \n",
        "1. Change the title to: Monthly Search of \"Unemployment Benefits\" in the U.S. vs the U/E Rate <br>\n",
        "2. Change the y-axis label to: FRED U/E Rate <br>\n",
        "3. Change the axis limits <br>\n",
        "4. Add a grey [grid](https://matplotlib.org/3.2.1/api/_as_gen/matplotlib.pyplot.grid.html) to the chart to better see the years and the U/E rate values. Use dashes for the line style<br> \n",
        "5. Can you discern any seasonality in the searches? Is there a pattern? "
      ]
    },
    {
      "cell_type": "code",
      "execution_count": null,
      "metadata": {
        "id": "ow2BmQPP66g9"
      },
      "outputs": [],
      "source": [
        ""
      ]
    },
    {
      "cell_type": "markdown",
      "metadata": {
        "id": "RO1R9b5l66g9"
      },
      "source": [
        "**Challenge**: Calculate the 3-month or 6-month rolling average for the web searches. Plot the 6-month rolling average search data against the actual unemployment. What do you see in the chart? Which line moves first?\n"
      ]
    },
    {
      "cell_type": "code",
      "execution_count": null,
      "metadata": {
        "id": "nCHvPRcG66g9"
      },
      "outputs": [],
      "source": [
        ""
      ]
    },
    {
      "cell_type": "markdown",
      "metadata": {
        "id": "aUtp-LCv66g9"
      },
      "source": [
        "### Including 2020 in Unemployment Charts"
      ]
    },
    {
      "cell_type": "markdown",
      "metadata": {
        "id": "Q7sdn7M766g9"
      },
      "source": [
        "**Challenge**: Read the data in the 'UE Benefits Search vs UE Rate 2004-20.csv' into a DataFrame. Convert the MONTH column to Pandas Datetime objects and then plot the chart. What do you see?"
      ]
    },
    {
      "cell_type": "code",
      "execution_count": null,
      "metadata": {
        "id": "jNs7rIFv66g9"
      },
      "outputs": [],
      "source": [
        ""
      ]
    },
    {
      "cell_type": "code",
      "execution_count": null,
      "metadata": {
        "id": "VLjOK81G66g9"
      },
      "outputs": [],
      "source": [
        ""
      ]
    },
    {
      "cell_type": "code",
      "execution_count": null,
      "metadata": {
        "id": "EJmGeCdf66g9"
      },
      "outputs": [],
      "source": [
        ""
      ]
    }
  ],
  "metadata": {
    "kernelspec": {
      "display_name": "Python 3",
      "language": "python",
      "name": "python3"
    },
    "language_info": {
      "codemirror_mode": {
        "name": "ipython",
        "version": 3
      },
      "file_extension": ".py",
      "mimetype": "text/x-python",
      "name": "python",
      "nbconvert_exporter": "python",
      "pygments_lexer": "ipython3",
      "version": "3.7.3"
    },
    "colab": {
      "name": "Google Trends and Data Visualisation (start).ipynb",
      "provenance": [],
      "include_colab_link": true
    }
  },
  "nbformat": 4,
  "nbformat_minor": 0
}