{
  "cells": [
    {
      "cell_type": "markdown",
      "metadata": {
        "id": "view-in-github",
        "colab_type": "text"
      },
      "source": [
        "<a href=\"https://colab.research.google.com/github/HKubinhetz/DS-GoogleTrends/blob/main/Google_Trends_and_Data_Visualisation_(start).ipynb\" target=\"_parent\"><img src=\"https://colab.research.google.com/assets/colab-badge.svg\" alt=\"Open In Colab\"/></a>"
      ]
    },
    {
      "cell_type": "markdown",
      "metadata": {
        "id": "4e9tVJvx66gr"
      },
      "source": [
        "# Introduction"
      ]
    },
    {
      "cell_type": "markdown",
      "metadata": {
        "id": "X7tsoEm966gu"
      },
      "source": [
        "Google Trends gives us an estimate of search volume. Let's explore if search popularity relates to other kinds of data. Perhaps there are patterns in Google's search volume and the price of Bitcoin or a hot stock like Tesla. Perhaps search volume for the term \"Unemployment Benefits\" can tell us something about the actual unemployment rate? \n",
        "\n",
        "Data Sources: <br>\n",
        "<ul>\n",
        "<li> <a href=\"https://fred.stlouisfed.org/series/UNRATE/\">Unemployment Rate from FRED</a></li>\n",
        "<li> <a href=\"https://trends.google.com/trends/explore\">Google Trends</a> </li>  \n",
        "<li> <a href=\"https://finance.yahoo.com/quote/TSLA/history?p=TSLA\">Yahoo Finance for Tesla Stock Price</a> </li>    \n",
        "<li> <a href=\"https://finance.yahoo.com/quote/BTC-USD/history?p=BTC-USD\">Yahoo Finance for Bitcoin Stock Price</a> </li>\n",
        "</ul>"
      ]
    },
    {
      "cell_type": "markdown",
      "metadata": {
        "id": "93Kilc5n66gv"
      },
      "source": [
        "# Import Statements"
      ]
    },
    {
      "cell_type": "code",
      "execution_count": 1,
      "metadata": {
        "colab": {
          "base_uri": "https://localhost:8080/"
        },
        "id": "Sn_zENtO66gv",
        "outputId": "3c7610c2-f5b6-46a5-e7af-1a78d898e4d4"
      },
      "outputs": [
        {
          "output_type": "stream",
          "name": "stdout",
          "text": [
            "Mounted at /content/drive\n"
          ]
        }
      ],
      "source": [
        "import pandas as pd\n",
        "import matplotlib.pyplot as plt\n",
        "from google.colab import drive\n",
        "drive.mount('/content/drive')\n"
      ]
    },
    {
      "cell_type": "markdown",
      "metadata": {
        "id": "Ejdb1b9D66gw"
      },
      "source": [
        "# Read the Data\n",
        "\n",
        "Download and add the .csv files to the same folder as your notebook."
      ]
    },
    {
      "cell_type": "code",
      "execution_count": 2,
      "metadata": {
        "id": "zfdhgdZ366gx"
      },
      "outputs": [],
      "source": [
        "df_tesla = pd.read_csv('/content/drive/MyDrive/PythonDS/04 - Google Trends/TESLA Search Trend vs Price.csv')\n",
        "df_tesla.name = \"Tesla Trends\"\n",
        "\n",
        "df_btc_search = pd.read_csv('/content/drive/MyDrive/PythonDS/04 - Google Trends/Bitcoin Search Trend.csv')\n",
        "df_btc_search.name = \"BTC Searches\"\n",
        "\n",
        "df_btc_price = pd.read_csv('/content/drive/MyDrive/PythonDS/04 - Google Trends/Daily Bitcoin Price.csv')\n",
        "df_btc_price.name = \"BTC Prices\"\n",
        "\n",
        "df_unemployment_19 = pd.read_csv('/content/drive/MyDrive/PythonDS/04 - Google Trends/UE Benefits Search vs UE Rate 2004-19.csv')\n",
        "df_unemployment_19.name = \"UE 19 Trends\"\n",
        "\n",
        "df_unemployment_20 = pd.read_csv('/content/drive/MyDrive/PythonDS/04 - Google Trends/UE Benefits Search vs UE Rate 2004-20.csv')\n",
        "df_unemployment_20.name = \"UE 20 Trends\"\n",
        "\n",
        "df_list = [df_tesla, df_btc_search, df_btc_price, df_unemployment_19, df_unemployment_20]"
      ]
    },
    {
      "cell_type": "markdown",
      "metadata": {
        "id": "6uSNGSBn66gx"
      },
      "source": [
        "# Data Exploration"
      ]
    },
    {
      "cell_type": "markdown",
      "metadata": {
        "id": "Tyrb_hVE66gy"
      },
      "source": [
        "**Challenge**: <br>\n",
        "<ul>\n",
        "<li>What are the shapes of the dataframes? </li>\n",
        "<li>How many rows and columns? </li>\n",
        "<li>What are the column names? </li>\n",
        "<li>Complete the f-string to show the largest/smallest number in the search data column</li> \n",
        "<li>Try the <code>.describe()</code> function to see some useful descriptive statistics</li>\n",
        "<li>What is the periodicity of the time series data (daily, weekly, monthly)? </li>\n",
        "<li>What does a value of 100 in the Google Trend search popularity actually mean?</li>\n",
        "</ul>"
      ]
    },
    {
      "cell_type": "code",
      "source": [
        "# Studying every Dataframe in the project.\n",
        "\n",
        "for dataframe in df_list:\n",
        "  print(f\"--------------------{dataframe.name}--------------------\")\n",
        "  print(f\"The shape of the {dataframe.name} dataframe is {dataframe.shape}\")\n",
        "  print(f\"Meaning there are {dataframe.shape[0]} rows and {dataframe.shape[1]} columns in its composition.\")\n",
        "  print(f\"The columns of this Dataframe are: {dataframe.columns.values}.\")\n",
        "  print(f\"\\n{dataframe.describe()}\")\n",
        "  print(f\"\\n{dataframe.head()}\")\n",
        "  print(f\"\\n\\n\")"
      ],
      "metadata": {
        "colab": {
          "base_uri": "https://localhost:8080/"
        },
        "id": "mXHWjwuR_ClL",
        "outputId": "e5ba2660-c95a-45d0-feb4-aa62e5d3dc86"
      },
      "execution_count": 3,
      "outputs": [
        {
          "output_type": "stream",
          "name": "stdout",
          "text": [
            "--------------------Tesla Trends--------------------\n",
            "The shape of the Tesla Trends dataframe is (124, 3)\n",
            "Meaning there are 124 rows and 3 columns in its composition.\n",
            "The columns of this Dataframe are: ['MONTH' 'TSLA_WEB_SEARCH' 'TSLA_USD_CLOSE'].\n",
            "\n",
            "       TSLA_WEB_SEARCH  TSLA_USD_CLOSE\n",
            "count       124.000000      124.000000\n",
            "mean          8.725806       50.962145\n",
            "std           5.870332       65.908389\n",
            "min           2.000000        3.896000\n",
            "25%           3.750000        7.352500\n",
            "50%           8.000000       44.653000\n",
            "75%          12.000000       58.991999\n",
            "max          31.000000      498.320007\n",
            "\n",
            "        MONTH  TSLA_WEB_SEARCH  TSLA_USD_CLOSE\n",
            "0  2010-06-01                3           4.766\n",
            "1  2010-07-01                3           3.988\n",
            "2  2010-08-01                2           3.896\n",
            "3  2010-09-01                2           4.082\n",
            "4  2010-10-01                2           4.368\n",
            "\n",
            "\n",
            "\n",
            "--------------------BTC Searches--------------------\n",
            "The shape of the BTC Searches dataframe is (73, 2)\n",
            "Meaning there are 73 rows and 2 columns in its composition.\n",
            "The columns of this Dataframe are: ['MONTH' 'BTC_NEWS_SEARCH'].\n",
            "\n",
            "       BTC_NEWS_SEARCH\n",
            "count        73.000000\n",
            "mean         15.013699\n",
            "std          15.146959\n",
            "min           3.000000\n",
            "25%           5.000000\n",
            "50%          14.000000\n",
            "75%          18.000000\n",
            "max         100.000000\n",
            "\n",
            "     MONTH  BTC_NEWS_SEARCH\n",
            "0  2014-09                5\n",
            "1  2014-10                4\n",
            "2  2014-11                4\n",
            "3  2014-12                4\n",
            "4  2015-01                5\n",
            "\n",
            "\n",
            "\n",
            "--------------------BTC Prices--------------------\n",
            "The shape of the BTC Prices dataframe is (2204, 3)\n",
            "Meaning there are 2204 rows and 3 columns in its composition.\n",
            "The columns of this Dataframe are: ['DATE' 'CLOSE' 'VOLUME'].\n",
            "\n",
            "              CLOSE        VOLUME\n",
            "count   2203.000000  2.203000e+03\n",
            "mean    4429.421245  8.043622e+09\n",
            "std     4148.150071  1.176529e+10\n",
            "min      178.102997  5.914570e+06\n",
            "25%      433.629502  6.029915e+07\n",
            "50%     3637.520020  2.018890e+09\n",
            "75%     7997.372803  1.322478e+10\n",
            "max    19497.400391  7.415677e+10\n",
            "\n",
            "         DATE       CLOSE      VOLUME\n",
            "0  2014-09-17  457.334015  21056800.0\n",
            "1  2014-09-18  424.440002  34483200.0\n",
            "2  2014-09-19  394.795990  37919700.0\n",
            "3  2014-09-20  408.903992  36863600.0\n",
            "4  2014-09-21  398.821014  26580100.0\n",
            "\n",
            "\n",
            "\n",
            "--------------------UE 19 Trends--------------------\n",
            "The shape of the UE 19 Trends dataframe is (181, 3)\n",
            "Meaning there are 181 rows and 3 columns in its composition.\n",
            "The columns of this Dataframe are: ['MONTH' 'UE_BENEFITS_WEB_SEARCH' 'UNRATE'].\n",
            "\n",
            "       UE_BENEFITS_WEB_SEARCH      UNRATE\n",
            "count              181.000000  181.000000\n",
            "mean                35.110497    6.217680\n",
            "std                 20.484925    1.891859\n",
            "min                 14.000000    3.700000\n",
            "25%                 21.000000    4.700000\n",
            "50%                 26.000000    5.400000\n",
            "75%                 45.000000    7.800000\n",
            "max                100.000000   10.000000\n",
            "\n",
            "     MONTH  UE_BENEFITS_WEB_SEARCH  UNRATE\n",
            "0  2004-01                      34     5.7\n",
            "1  2004-02                      33     5.6\n",
            "2  2004-03                      25     5.8\n",
            "3  2004-04                      29     5.6\n",
            "4  2004-05                      23     5.6\n",
            "\n",
            "\n",
            "\n",
            "--------------------UE 20 Trends--------------------\n",
            "The shape of the UE 20 Trends dataframe is (200, 3)\n",
            "Meaning there are 200 rows and 3 columns in its composition.\n",
            "The columns of this Dataframe are: ['MONTH' 'UE_BENEFITS_WEB_SEARCH' 'UNRATE'].\n",
            "\n",
            "       UE_BENEFITS_WEB_SEARCH      UNRATE\n",
            "count              200.000000  200.000000\n",
            "mean                10.315000    6.173000\n",
            "std                 10.778061    2.128267\n",
            "min                  4.000000    3.500000\n",
            "25%                  5.000000    4.600000\n",
            "50%                  7.000000    5.400000\n",
            "75%                 12.000000    7.825000\n",
            "max                100.000000   14.700000\n",
            "\n",
            "     MONTH  UE_BENEFITS_WEB_SEARCH  UNRATE\n",
            "0  2004-01                       9     5.7\n",
            "1  2004-02                       8     5.6\n",
            "2  2004-03                       7     5.8\n",
            "3  2004-04                       8     5.6\n",
            "4  2004-05                       6     5.6\n",
            "\n",
            "\n",
            "\n"
          ]
        }
      ]
    },
    {
      "cell_type": "markdown",
      "metadata": {
        "id": "O6rZyVpE66gy"
      },
      "source": [
        "### Tesla"
      ]
    },
    {
      "cell_type": "code",
      "execution_count": 4,
      "metadata": {
        "id": "X2Ua0g_S66g0",
        "outputId": "2652eaf1-bd1c-4b00-855d-35599c270e3a",
        "colab": {
          "base_uri": "https://localhost:8080/"
        }
      },
      "outputs": [
        {
          "output_type": "stream",
          "name": "stdout",
          "text": [
            "Largest value for Tesla in Web Search: 31\n",
            "Smallest value for Tesla in Web Search: 2\n"
          ]
        }
      ],
      "source": [
        "print(f'Largest value for Tesla in Web Search: {df_tesla.TSLA_WEB_SEARCH.max()}')\n",
        "print(f'Smallest value for Tesla in Web Search: {df_tesla.TSLA_WEB_SEARCH.min()}')"
      ]
    },
    {
      "cell_type": "markdown",
      "metadata": {
        "id": "hfNGTX9p66g1"
      },
      "source": [
        "### Unemployment Data"
      ]
    },
    {
      "cell_type": "code",
      "execution_count": 5,
      "metadata": {
        "id": "JW6UQvTJ66g1",
        "outputId": "af8c1f59-ec24-4094-a3c9-e684d68c6b34",
        "colab": {
          "base_uri": "https://localhost:8080/"
        }
      },
      "outputs": [
        {
          "output_type": "stream",
          "name": "stdout",
          "text": [
            "Largest value for \"Unemployemnt Benefits\" in Web Search: 100\n"
          ]
        }
      ],
      "source": [
        "print('Largest value for \"Unemployemnt Benefits\" '\n",
        "      f'in Web Search: {df_unemployment_19.UE_BENEFITS_WEB_SEARCH.max()}')"
      ]
    },
    {
      "cell_type": "markdown",
      "metadata": {
        "id": "C0HOckQO66g2"
      },
      "source": [
        "### Bitcoin"
      ]
    },
    {
      "cell_type": "code",
      "execution_count": 6,
      "metadata": {
        "id": "h6WVYCIS66g3",
        "outputId": "2ba08dd4-cfe8-4a73-d6df-6ea26ce69e28",
        "colab": {
          "base_uri": "https://localhost:8080/"
        }
      },
      "outputs": [
        {
          "output_type": "stream",
          "name": "stdout",
          "text": [
            "largest BTC News Search: 100\n"
          ]
        }
      ],
      "source": [
        "print(f'largest BTC News Search: {df_btc_search.BTC_NEWS_SEARCH.max()}')"
      ]
    },
    {
      "cell_type": "markdown",
      "metadata": {
        "id": "e5F3mOed66g3"
      },
      "source": [
        "# Data Cleaning"
      ]
    },
    {
      "cell_type": "markdown",
      "metadata": {
        "id": "qXjkb2iz66g3"
      },
      "source": [
        "### Check for Missing Values"
      ]
    },
    {
      "cell_type": "markdown",
      "metadata": {
        "id": "4looSNY366g3"
      },
      "source": [
        "**Challenge**: Are there any missing values in any of the dataframes? If so, which row/rows have missing values? How many missing values are there?"
      ]
    },
    {
      "cell_type": "code",
      "source": [
        "# Checking missing values on every Dataframe in the project.\n",
        "\n",
        "for dataframe in df_list:\n",
        "  print(f\"Missing values in {dataframe.name}?\")\n",
        "  print(f\"{dataframe.isna().values.any()}\\n\")"
      ],
      "metadata": {
        "colab": {
          "base_uri": "https://localhost:8080/"
        },
        "id": "rxLdS0hlqfCd",
        "outputId": "0abf68d6-fca2-4321-9d59-96ec506ed879"
      },
      "execution_count": 7,
      "outputs": [
        {
          "output_type": "stream",
          "name": "stdout",
          "text": [
            "Missing values in Tesla Trends?\n",
            "False\n",
            "\n",
            "Missing values in BTC Searches?\n",
            "False\n",
            "\n",
            "Missing values in BTC Prices?\n",
            "True\n",
            "\n",
            "Missing values in UE 19 Trends?\n",
            "False\n",
            "\n",
            "Missing values in UE 20 Trends?\n",
            "False\n",
            "\n"
          ]
        }
      ]
    },
    {
      "cell_type": "code",
      "execution_count": 8,
      "metadata": {
        "id": "Wb4BlgNp66g4",
        "outputId": "cdff8caa-8c9e-4b5c-c37e-91cafec3be09",
        "colab": {
          "base_uri": "https://localhost:8080/"
        }
      },
      "outputs": [
        {
          "output_type": "stream",
          "name": "stdout",
          "text": [
            "Number of missing values in BTC: 2\n",
            "            DATE  CLOSE  VOLUME\n",
            "2148  2020-08-04    NaN     NaN\n"
          ]
        }
      ],
      "source": [
        "print(f'Number of missing values in BTC: {df_btc_price.isna().values.sum()}')\n",
        "print(df_btc_price[df_btc_price.CLOSE.isna()])"
      ]
    },
    {
      "cell_type": "markdown",
      "metadata": {
        "id": "Ed8wtaa_66g4"
      },
      "source": [
        "**Challenge**: Remove any missing values that you found. "
      ]
    },
    {
      "cell_type": "code",
      "execution_count": 9,
      "metadata": {
        "id": "q7268qzf66g5",
        "colab": {
          "base_uri": "https://localhost:8080/"
        },
        "outputId": "61566deb-a8d0-4d59-fc2a-ddaac64e2359"
      },
      "outputs": [
        {
          "output_type": "stream",
          "name": "stdout",
          "text": [
            "DATE      False\n",
            "CLOSE     False\n",
            "VOLUME    False\n",
            "dtype: bool\n"
          ]
        }
      ],
      "source": [
        "df_btc_price = df_btc_price.dropna()\n",
        "print(df_btc_price.isna().any())"
      ]
    },
    {
      "cell_type": "markdown",
      "metadata": {
        "id": "qTXv-sGJ66g5"
      },
      "source": [
        "### Convert Strings to DateTime Objects"
      ]
    },
    {
      "cell_type": "markdown",
      "metadata": {
        "id": "SDiqojTF66g5"
      },
      "source": [
        "**Challenge**: Check the data type of the entries in the DataFrame MONTH or DATE columns. Convert any strings in to Datetime objects. Do this for all 4 DataFrames. Double check if your type conversion was successful."
      ]
    },
    {
      "cell_type": "code",
      "execution_count": 10,
      "metadata": {
        "id": "U3oUkj5q66g5",
        "colab": {
          "base_uri": "https://localhost:8080/"
        },
        "outputId": "077fc0a1-06cf-40be-837b-d32814aa5ebc"
      },
      "outputs": [
        {
          "output_type": "stream",
          "name": "stderr",
          "text": [
            "/usr/local/lib/python3.7/dist-packages/pandas/core/generic.py:5516: SettingWithCopyWarning: \n",
            "A value is trying to be set on a copy of a slice from a DataFrame.\n",
            "Try using .loc[row_indexer,col_indexer] = value instead\n",
            "\n",
            "See the caveats in the documentation: https://pandas.pydata.org/pandas-docs/stable/user_guide/indexing.html#returning-a-view-versus-a-copy\n",
            "  self[name] = value\n"
          ]
        }
      ],
      "source": [
        "# Converting time columns from string to datetime format\n",
        "df_tesla.MONTH = pd.to_datetime(df_tesla.MONTH)\n",
        "df_btc_search.MONTH = pd.to_datetime(df_btc_search.MONTH)\n",
        "df_btc_price.DATE = pd.to_datetime(df_btc_price.DATE)\n",
        "df_unemployment_19.MONTH = pd.to_datetime(df_unemployment_19.MONTH)\n",
        "df_unemployment_20.MONTH =pd.to_datetime(df_unemployment_20.MONTH)\n"
      ]
    },
    {
      "cell_type": "code",
      "execution_count": 11,
      "metadata": {
        "id": "QhR85DEk66g5",
        "colab": {
          "base_uri": "https://localhost:8080/"
        },
        "outputId": "9e9f9386-b751-458d-963d-0589009c5816"
      },
      "outputs": [
        {
          "output_type": "stream",
          "name": "stdout",
          "text": [
            "0     2010-06-01\n",
            "1     2010-07-01\n",
            "2     2010-08-01\n",
            "3     2010-09-01\n",
            "4     2010-10-01\n",
            "         ...    \n",
            "119   2020-05-01\n",
            "120   2020-06-01\n",
            "121   2020-07-01\n",
            "122   2020-08-01\n",
            "123   2020-09-01\n",
            "Name: MONTH, Length: 124, dtype: datetime64[ns]\n",
            "0    2014-09-01\n",
            "1    2014-10-01\n",
            "2    2014-11-01\n",
            "3    2014-12-01\n",
            "4    2015-01-01\n",
            "        ...    \n",
            "68   2020-05-01\n",
            "69   2020-06-01\n",
            "70   2020-07-01\n",
            "71   2020-08-01\n",
            "72   2020-09-01\n",
            "Name: MONTH, Length: 73, dtype: datetime64[ns]\n",
            "0      2014-09-17\n",
            "1      2014-09-18\n",
            "2      2014-09-19\n",
            "3      2014-09-20\n",
            "4      2014-09-21\n",
            "          ...    \n",
            "2199   2020-09-24\n",
            "2200   2020-09-25\n",
            "2201   2020-09-26\n",
            "2202   2020-09-27\n",
            "2203   2020-09-28\n",
            "Name: DATE, Length: 2203, dtype: datetime64[ns]\n",
            "0     2004-01-01\n",
            "1     2004-02-01\n",
            "2     2004-03-01\n",
            "3     2004-04-01\n",
            "4     2004-05-01\n",
            "         ...    \n",
            "176   2018-09-01\n",
            "177   2018-10-01\n",
            "178   2018-11-01\n",
            "179   2018-12-01\n",
            "180   2019-01-01\n",
            "Name: MONTH, Length: 181, dtype: datetime64[ns]\n",
            "0     2004-01-01\n",
            "1     2004-02-01\n",
            "2     2004-03-01\n",
            "3     2004-04-01\n",
            "4     2004-05-01\n",
            "         ...    \n",
            "195   2020-04-01\n",
            "196   2020-05-01\n",
            "197   2020-06-01\n",
            "198   2020-07-01\n",
            "199   2020-08-01\n",
            "Name: MONTH, Length: 200, dtype: datetime64[ns]\n"
          ]
        }
      ],
      "source": [
        "# Checking the columns if the conversion was successful\n",
        "print(df_tesla.MONTH)\n",
        "print(df_btc_search.MONTH)\n",
        "print(df_btc_price.DATE)\n",
        "print(df_unemployment_19.MONTH)\n",
        "print(df_unemployment_20.MONTH)"
      ]
    },
    {
      "cell_type": "markdown",
      "metadata": {
        "id": "kTJa9N2R66g5"
      },
      "source": [
        "### Converting from Daily to Monthly Data\n",
        "\n",
        "[Pandas .resample() documentation](https://pandas.pydata.org/pandas-docs/stable/reference/api/pandas.DataFrame.resample.html) <br>"
      ]
    },
    {
      "cell_type": "code",
      "execution_count": 12,
      "metadata": {
        "id": "04QZi90U66g5"
      },
      "outputs": [],
      "source": [
        "df_btc_monthly = df_btc_price.resample('M', on='DATE').last()"
      ]
    },
    {
      "cell_type": "code",
      "execution_count": 13,
      "metadata": {
        "id": "ARfnvg0M66g6",
        "colab": {
          "base_uri": "https://localhost:8080/",
          "height": 0
        },
        "outputId": "ee91a449-9bdd-4bfe-b0e0-1046a2ec7f05"
      },
      "outputs": [
        {
          "output_type": "execute_result",
          "data": {
            "text/plain": [
              "                 DATE         CLOSE        VOLUME\n",
              "DATE                                             \n",
              "2014-09-30 2014-09-30    386.944000  3.470730e+07\n",
              "2014-10-31 2014-10-31    338.321014  1.254540e+07\n",
              "2014-11-30 2014-11-30    378.046997  9.194440e+06\n",
              "2014-12-31 2014-12-31    320.192993  1.394290e+07\n",
              "2015-01-31 2015-01-31    217.464005  2.334820e+07\n",
              "...               ...           ...           ...\n",
              "2020-05-31 2020-05-31   9461.058594  2.777329e+10\n",
              "2020-06-30 2020-06-30   9137.993164  1.573580e+10\n",
              "2020-07-31 2020-07-31  11323.466797  2.316047e+10\n",
              "2020-08-31 2020-08-31  11680.820313  2.228593e+10\n",
              "2020-09-30 2020-09-28  10912.536133  2.122653e+10\n",
              "\n",
              "[73 rows x 3 columns]"
            ],
            "text/html": [
              "\n",
              "  <div id=\"df-05dbd6de-5fb3-43ff-8eaa-477e5d3922be\">\n",
              "    <div class=\"colab-df-container\">\n",
              "      <div>\n",
              "<style scoped>\n",
              "    .dataframe tbody tr th:only-of-type {\n",
              "        vertical-align: middle;\n",
              "    }\n",
              "\n",
              "    .dataframe tbody tr th {\n",
              "        vertical-align: top;\n",
              "    }\n",
              "\n",
              "    .dataframe thead th {\n",
              "        text-align: right;\n",
              "    }\n",
              "</style>\n",
              "<table border=\"1\" class=\"dataframe\">\n",
              "  <thead>\n",
              "    <tr style=\"text-align: right;\">\n",
              "      <th></th>\n",
              "      <th>DATE</th>\n",
              "      <th>CLOSE</th>\n",
              "      <th>VOLUME</th>\n",
              "    </tr>\n",
              "    <tr>\n",
              "      <th>DATE</th>\n",
              "      <th></th>\n",
              "      <th></th>\n",
              "      <th></th>\n",
              "    </tr>\n",
              "  </thead>\n",
              "  <tbody>\n",
              "    <tr>\n",
              "      <th>2014-09-30</th>\n",
              "      <td>2014-09-30</td>\n",
              "      <td>386.944000</td>\n",
              "      <td>3.470730e+07</td>\n",
              "    </tr>\n",
              "    <tr>\n",
              "      <th>2014-10-31</th>\n",
              "      <td>2014-10-31</td>\n",
              "      <td>338.321014</td>\n",
              "      <td>1.254540e+07</td>\n",
              "    </tr>\n",
              "    <tr>\n",
              "      <th>2014-11-30</th>\n",
              "      <td>2014-11-30</td>\n",
              "      <td>378.046997</td>\n",
              "      <td>9.194440e+06</td>\n",
              "    </tr>\n",
              "    <tr>\n",
              "      <th>2014-12-31</th>\n",
              "      <td>2014-12-31</td>\n",
              "      <td>320.192993</td>\n",
              "      <td>1.394290e+07</td>\n",
              "    </tr>\n",
              "    <tr>\n",
              "      <th>2015-01-31</th>\n",
              "      <td>2015-01-31</td>\n",
              "      <td>217.464005</td>\n",
              "      <td>2.334820e+07</td>\n",
              "    </tr>\n",
              "    <tr>\n",
              "      <th>...</th>\n",
              "      <td>...</td>\n",
              "      <td>...</td>\n",
              "      <td>...</td>\n",
              "    </tr>\n",
              "    <tr>\n",
              "      <th>2020-05-31</th>\n",
              "      <td>2020-05-31</td>\n",
              "      <td>9461.058594</td>\n",
              "      <td>2.777329e+10</td>\n",
              "    </tr>\n",
              "    <tr>\n",
              "      <th>2020-06-30</th>\n",
              "      <td>2020-06-30</td>\n",
              "      <td>9137.993164</td>\n",
              "      <td>1.573580e+10</td>\n",
              "    </tr>\n",
              "    <tr>\n",
              "      <th>2020-07-31</th>\n",
              "      <td>2020-07-31</td>\n",
              "      <td>11323.466797</td>\n",
              "      <td>2.316047e+10</td>\n",
              "    </tr>\n",
              "    <tr>\n",
              "      <th>2020-08-31</th>\n",
              "      <td>2020-08-31</td>\n",
              "      <td>11680.820313</td>\n",
              "      <td>2.228593e+10</td>\n",
              "    </tr>\n",
              "    <tr>\n",
              "      <th>2020-09-30</th>\n",
              "      <td>2020-09-28</td>\n",
              "      <td>10912.536133</td>\n",
              "      <td>2.122653e+10</td>\n",
              "    </tr>\n",
              "  </tbody>\n",
              "</table>\n",
              "<p>73 rows × 3 columns</p>\n",
              "</div>\n",
              "      <button class=\"colab-df-convert\" onclick=\"convertToInteractive('df-05dbd6de-5fb3-43ff-8eaa-477e5d3922be')\"\n",
              "              title=\"Convert this dataframe to an interactive table.\"\n",
              "              style=\"display:none;\">\n",
              "        \n",
              "  <svg xmlns=\"http://www.w3.org/2000/svg\" height=\"24px\"viewBox=\"0 0 24 24\"\n",
              "       width=\"24px\">\n",
              "    <path d=\"M0 0h24v24H0V0z\" fill=\"none\"/>\n",
              "    <path d=\"M18.56 5.44l.94 2.06.94-2.06 2.06-.94-2.06-.94-.94-2.06-.94 2.06-2.06.94zm-11 1L8.5 8.5l.94-2.06 2.06-.94-2.06-.94L8.5 2.5l-.94 2.06-2.06.94zm10 10l.94 2.06.94-2.06 2.06-.94-2.06-.94-.94-2.06-.94 2.06-2.06.94z\"/><path d=\"M17.41 7.96l-1.37-1.37c-.4-.4-.92-.59-1.43-.59-.52 0-1.04.2-1.43.59L10.3 9.45l-7.72 7.72c-.78.78-.78 2.05 0 2.83L4 21.41c.39.39.9.59 1.41.59.51 0 1.02-.2 1.41-.59l7.78-7.78 2.81-2.81c.8-.78.8-2.07 0-2.86zM5.41 20L4 18.59l7.72-7.72 1.47 1.35L5.41 20z\"/>\n",
              "  </svg>\n",
              "      </button>\n",
              "      \n",
              "  <style>\n",
              "    .colab-df-container {\n",
              "      display:flex;\n",
              "      flex-wrap:wrap;\n",
              "      gap: 12px;\n",
              "    }\n",
              "\n",
              "    .colab-df-convert {\n",
              "      background-color: #E8F0FE;\n",
              "      border: none;\n",
              "      border-radius: 50%;\n",
              "      cursor: pointer;\n",
              "      display: none;\n",
              "      fill: #1967D2;\n",
              "      height: 32px;\n",
              "      padding: 0 0 0 0;\n",
              "      width: 32px;\n",
              "    }\n",
              "\n",
              "    .colab-df-convert:hover {\n",
              "      background-color: #E2EBFA;\n",
              "      box-shadow: 0px 1px 2px rgba(60, 64, 67, 0.3), 0px 1px 3px 1px rgba(60, 64, 67, 0.15);\n",
              "      fill: #174EA6;\n",
              "    }\n",
              "\n",
              "    [theme=dark] .colab-df-convert {\n",
              "      background-color: #3B4455;\n",
              "      fill: #D2E3FC;\n",
              "    }\n",
              "\n",
              "    [theme=dark] .colab-df-convert:hover {\n",
              "      background-color: #434B5C;\n",
              "      box-shadow: 0px 1px 3px 1px rgba(0, 0, 0, 0.15);\n",
              "      filter: drop-shadow(0px 1px 2px rgba(0, 0, 0, 0.3));\n",
              "      fill: #FFFFFF;\n",
              "    }\n",
              "  </style>\n",
              "\n",
              "      <script>\n",
              "        const buttonEl =\n",
              "          document.querySelector('#df-05dbd6de-5fb3-43ff-8eaa-477e5d3922be button.colab-df-convert');\n",
              "        buttonEl.style.display =\n",
              "          google.colab.kernel.accessAllowed ? 'block' : 'none';\n",
              "\n",
              "        async function convertToInteractive(key) {\n",
              "          const element = document.querySelector('#df-05dbd6de-5fb3-43ff-8eaa-477e5d3922be');\n",
              "          const dataTable =\n",
              "            await google.colab.kernel.invokeFunction('convertToInteractive',\n",
              "                                                     [key], {});\n",
              "          if (!dataTable) return;\n",
              "\n",
              "          const docLinkHtml = 'Like what you see? Visit the ' +\n",
              "            '<a target=\"_blank\" href=https://colab.research.google.com/notebooks/data_table.ipynb>data table notebook</a>'\n",
              "            + ' to learn more about interactive tables.';\n",
              "          element.innerHTML = '';\n",
              "          dataTable['output_type'] = 'display_data';\n",
              "          await google.colab.output.renderOutput(dataTable, element);\n",
              "          const docLink = document.createElement('div');\n",
              "          docLink.innerHTML = docLinkHtml;\n",
              "          element.appendChild(docLink);\n",
              "        }\n",
              "      </script>\n",
              "    </div>\n",
              "  </div>\n",
              "  "
            ]
          },
          "metadata": {},
          "execution_count": 13
        }
      ],
      "source": [
        "df_btc_monthly"
      ]
    },
    {
      "cell_type": "markdown",
      "metadata": {
        "id": "gaECvdbZ66g6"
      },
      "source": [
        "# Data Visualisation"
      ]
    },
    {
      "cell_type": "markdown",
      "metadata": {
        "id": "uO5s1dmr66g6"
      },
      "source": [
        "### Notebook Formatting & Style Helpers"
      ]
    },
    {
      "cell_type": "code",
      "execution_count": 15,
      "metadata": {
        "id": "IsAnbzbW66g6",
        "colab": {
          "base_uri": "https://localhost:8080/",
          "height": 826
        },
        "outputId": "3d1af7f9-e3ae-43e5-cc7b-ba4bdc74ac36"
      },
      "outputs": [
        {
          "output_type": "execute_result",
          "data": {
            "text/plain": [
              "[<matplotlib.lines.Line2D at 0x7f32c91edf50>]"
            ]
          },
          "metadata": {},
          "execution_count": 15
        },
        {
          "output_type": "display_data",
          "data": {
            "text/plain": [
              "<Figure size 1152x1008 with 2 Axes>"
            ],
            "image/png": "[encoded data removed]"
          },
          "metadata": {
            "needs_background": "light"
          }
        }
      ],
      "source": [
        "# Create locators for ticks on the time axis\n",
        "plt.figure(figsize=(16,14))\n",
        "\n",
        "plt.xticks(ticks=[], fontsize=14)\n",
        "plt.yticks(fontsize=14)\n",
        "\n",
        "ax1 = plt.gca()\n",
        "ax2 = ax1.twinx()\n",
        "\n",
        "ax1.set_ylabel('Search Trend')\n",
        "ax2.set_ylabel('TSLA Stock Price')\n",
        "\n",
        "ax1.plot(df_tesla.MONTH, df_tesla.TSLA_WEB_SEARCH, 'blue', linewidth=3)\n",
        "ax2.plot(df_tesla.MONTH, df_tesla.TSLA_USD_CLOSE, 'gold', linewidth=3)"
      ]
    },
    {
      "cell_type": "code",
      "execution_count": null,
      "metadata": {
        "id": "TjdPawIH66g6",
        "colab": {
          "base_uri": "https://localhost:8080/",
          "height": 424
        },
        "outputId": "7e607849-1dd4-4cbc-daf6-4d79347e9984"
      },
      "outputs": [
        {
          "output_type": "execute_result",
          "data": {
            "text/plain": [
              "          MONTH  TSLA_WEB_SEARCH  TSLA_USD_CLOSE\n",
              "0    2010-06-01                3        4.766000\n",
              "1    2010-07-01                3        3.988000\n",
              "2    2010-08-01                2        3.896000\n",
              "3    2010-09-01                2        4.082000\n",
              "4    2010-10-01                2        4.368000\n",
              "..          ...              ...             ...\n",
              "119  2020-05-01               16      167.000000\n",
              "120  2020-06-01               17      215.962006\n",
              "121  2020-07-01               24      286.152008\n",
              "122  2020-08-01               23      498.320007\n",
              "123  2020-09-01               31      407.339996\n",
              "\n",
              "[124 rows x 3 columns]"
            ],
            "text/html": [
              "\n",
              "  <div id=\"df-2ee8db94-7d99-46e9-a8b7-5732fceb1b47\">\n",
              "    <div class=\"colab-df-container\">\n",
              "      <div>\n",
              "<style scoped>\n",
              "    .dataframe tbody tr th:only-of-type {\n",
              "        vertical-align: middle;\n",
              "    }\n",
              "\n",
              "    .dataframe tbody tr th {\n",
              "        vertical-align: top;\n",
              "    }\n",
              "\n",
              "    .dataframe thead th {\n",
              "        text-align: right;\n",
              "    }\n",
              "</style>\n",
              "<table border=\"1\" class=\"dataframe\">\n",
              "  <thead>\n",
              "    <tr style=\"text-align: right;\">\n",
              "      <th></th>\n",
              "      <th>MONTH</th>\n",
              "      <th>TSLA_WEB_SEARCH</th>\n",
              "      <th>TSLA_USD_CLOSE</th>\n",
              "    </tr>\n",
              "  </thead>\n",
              "  <tbody>\n",
              "    <tr>\n",
              "      <th>0</th>\n",
              "      <td>2010-06-01</td>\n",
              "      <td>3</td>\n",
              "      <td>4.766000</td>\n",
              "    </tr>\n",
              "    <tr>\n",
              "      <th>1</th>\n",
              "      <td>2010-07-01</td>\n",
              "      <td>3</td>\n",
              "      <td>3.988000</td>\n",
              "    </tr>\n",
              "    <tr>\n",
              "      <th>2</th>\n",
              "      <td>2010-08-01</td>\n",
              "      <td>2</td>\n",
              "      <td>3.896000</td>\n",
              "    </tr>\n",
              "    <tr>\n",
              "      <th>3</th>\n",
              "      <td>2010-09-01</td>\n",
              "      <td>2</td>\n",
              "      <td>4.082000</td>\n",
              "    </tr>\n",
              "    <tr>\n",
              "      <th>4</th>\n",
              "      <td>2010-10-01</td>\n",
              "      <td>2</td>\n",
              "      <td>4.368000</td>\n",
              "    </tr>\n",
              "    <tr>\n",
              "      <th>...</th>\n",
              "      <td>...</td>\n",
              "      <td>...</td>\n",
              "      <td>...</td>\n",
              "    </tr>\n",
              "    <tr>\n",
              "      <th>119</th>\n",
              "      <td>2020-05-01</td>\n",
              "      <td>16</td>\n",
              "      <td>167.000000</td>\n",
              "    </tr>\n",
              "    <tr>\n",
              "      <th>120</th>\n",
              "      <td>2020-06-01</td>\n",
              "      <td>17</td>\n",
              "      <td>215.962006</td>\n",
              "    </tr>\n",
              "    <tr>\n",
              "      <th>121</th>\n",
              "      <td>2020-07-01</td>\n",
              "      <td>24</td>\n",
              "      <td>286.152008</td>\n",
              "    </tr>\n",
              "    <tr>\n",
              "      <th>122</th>\n",
              "      <td>2020-08-01</td>\n",
              "      <td>23</td>\n",
              "      <td>498.320007</td>\n",
              "    </tr>\n",
              "    <tr>\n",
              "      <th>123</th>\n",
              "      <td>2020-09-01</td>\n",
              "      <td>31</td>\n",
              "      <td>407.339996</td>\n",
              "    </tr>\n",
              "  </tbody>\n",
              "</table>\n",
              "<p>124 rows × 3 columns</p>\n",
              "</div>\n",
              "      <button class=\"colab-df-convert\" onclick=\"convertToInteractive('df-2ee8db94-7d99-46e9-a8b7-5732fceb1b47')\"\n",
              "              title=\"Convert this dataframe to an interactive table.\"\n",
              "              style=\"display:none;\">\n",
              "        \n",
              "  <svg xmlns=\"http://www.w3.org/2000/svg\" height=\"24px\"viewBox=\"0 0 24 24\"\n",
              "       width=\"24px\">\n",
              "    <path d=\"M0 0h24v24H0V0z\" fill=\"none\"/>\n",
              "    <path d=\"M18.56 5.44l.94 2.06.94-2.06 2.06-.94-2.06-.94-.94-2.06-.94 2.06-2.06.94zm-11 1L8.5 8.5l.94-2.06 2.06-.94-2.06-.94L8.5 2.5l-.94 2.06-2.06.94zm10 10l.94 2.06.94-2.06 2.06-.94-2.06-.94-.94-2.06-.94 2.06-2.06.94z\"/><path d=\"M17.41 7.96l-1.37-1.37c-.4-.4-.92-.59-1.43-.59-.52 0-1.04.2-1.43.59L10.3 9.45l-7.72 7.72c-.78.78-.78 2.05 0 2.83L4 21.41c.39.39.9.59 1.41.59.51 0 1.02-.2 1.41-.59l7.78-7.78 2.81-2.81c.8-.78.8-2.07 0-2.86zM5.41 20L4 18.59l7.72-7.72 1.47 1.35L5.41 20z\"/>\n",
              "  </svg>\n",
              "      </button>\n",
              "      \n",
              "  <style>\n",
              "    .colab-df-container {\n",
              "      display:flex;\n",
              "      flex-wrap:wrap;\n",
              "      gap: 12px;\n",
              "    }\n",
              "\n",
              "    .colab-df-convert {\n",
              "      background-color: #E8F0FE;\n",
              "      border: none;\n",
              "      border-radius: 50%;\n",
              "      cursor: pointer;\n",
              "      display: none;\n",
              "      fill: #1967D2;\n",
              "      height: 32px;\n",
              "      padding: 0 0 0 0;\n",
              "      width: 32px;\n",
              "    }\n",
              "\n",
              "    .colab-df-convert:hover {\n",
              "      background-color: #E2EBFA;\n",
              "      box-shadow: 0px 1px 2px rgba(60, 64, 67, 0.3), 0px 1px 3px 1px rgba(60, 64, 67, 0.15);\n",
              "      fill: #174EA6;\n",
              "    }\n",
              "\n",
              "    [theme=dark] .colab-df-convert {\n",
              "      background-color: #3B4455;\n",
              "      fill: #D2E3FC;\n",
              "    }\n",
              "\n",
              "    [theme=dark] .colab-df-convert:hover {\n",
              "      background-color: #434B5C;\n",
              "      box-shadow: 0px 1px 3px 1px rgba(0, 0, 0, 0.15);\n",
              "      filter: drop-shadow(0px 1px 2px rgba(0, 0, 0, 0.3));\n",
              "      fill: #FFFFFF;\n",
              "    }\n",
              "  </style>\n",
              "\n",
              "      <script>\n",
              "        const buttonEl =\n",
              "          document.querySelector('#df-2ee8db94-7d99-46e9-a8b7-5732fceb1b47 button.colab-df-convert');\n",
              "        buttonEl.style.display =\n",
              "          google.colab.kernel.accessAllowed ? 'block' : 'none';\n",
              "\n",
              "        async function convertToInteractive(key) {\n",
              "          const element = document.querySelector('#df-2ee8db94-7d99-46e9-a8b7-5732fceb1b47');\n",
              "          const dataTable =\n",
              "            await google.colab.kernel.invokeFunction('convertToInteractive',\n",
              "                                                     [key], {});\n",
              "          if (!dataTable) return;\n",
              "\n",
              "          const docLinkHtml = 'Like what you see? Visit the ' +\n",
              "            '<a target=\"_blank\" href=https://colab.research.google.com/notebooks/data_table.ipynb>data table notebook</a>'\n",
              "            + ' to learn more about interactive tables.';\n",
              "          element.innerHTML = '';\n",
              "          dataTable['output_type'] = 'display_data';\n",
              "          await google.colab.output.renderOutput(dataTable, element);\n",
              "          const docLink = document.createElement('div');\n",
              "          docLink.innerHTML = docLinkHtml;\n",
              "          element.appendChild(docLink);\n",
              "        }\n",
              "      </script>\n",
              "    </div>\n",
              "  </div>\n",
              "  "
            ]
          },
          "metadata": {},
          "execution_count": 29
        }
      ],
      "source": [
        "# Register date converters to avoid warning messages\n",
        "df_tesla"
      ]
    },
    {
      "cell_type": "markdown",
      "metadata": {
        "id": "fdIKCwyj66g6"
      },
      "source": [
        "### Tesla Stock Price v.s. Search Volume"
      ]
    },
    {
      "cell_type": "markdown",
      "metadata": {
        "id": "FJRQdOyP66g7"
      },
      "source": [
        "**Challenge:** Plot the Tesla stock price against the Tesla search volume using a line chart and two different axes. Label one axis 'TSLA Stock Price' and the other 'Search Trend'. "
      ]
    },
    {
      "cell_type": "code",
      "execution_count": null,
      "metadata": {
        "id": "-vLJ05V-66g7"
      },
      "outputs": [],
      "source": [
        ""
      ]
    },
    {
      "cell_type": "markdown",
      "metadata": {
        "id": "akRUNgZw66g7"
      },
      "source": [
        "**Challenge**: Add colours to style the chart. This will help differentiate the two lines and the axis labels. Try using one of the blue [colour names](https://matplotlib.org/3.1.1/gallery/color/named_colors.html) for the search volume and a HEX code for a red colour for the stock price. \n",
        "<br>\n",
        "<br>\n",
        "Hint: you can colour both the [axis labels](https://matplotlib.org/3.3.2/api/text_api.html#matplotlib.text.Text) and the [lines](https://matplotlib.org/3.2.1/api/_as_gen/matplotlib.lines.Line2D.html#matplotlib.lines.Line2D) on the chart using keyword arguments (kwargs).  "
      ]
    },
    {
      "cell_type": "code",
      "execution_count": null,
      "metadata": {
        "id": "H1dsWZCF66g7"
      },
      "outputs": [],
      "source": [
        ""
      ]
    },
    {
      "cell_type": "markdown",
      "metadata": {
        "id": "hkEvLFC866g7"
      },
      "source": [
        "**Challenge**: Make the chart larger and easier to read. \n",
        "1. Increase the figure size (e.g., to 14 by 8). \n",
        "2. Increase the font sizes for the labels and the ticks on the x-axis to 14. \n",
        "3. Rotate the text on the x-axis by 45 degrees. \n",
        "4. Make the lines on the chart thicker. \n",
        "5. Add a title that reads 'Tesla Web Search vs Price'\n",
        "6. Keep the chart looking sharp by changing the dots-per-inch or [DPI value](https://matplotlib.org/3.1.1/api/_as_gen/matplotlib.pyplot.figure.html). \n",
        "7. Set minimum and maximum values for the y and x axis. Hint: check out methods like [set_xlim()](https://matplotlib.org/3.1.1/api/_as_gen/matplotlib.axes.Axes.set_xlim.html). \n",
        "8. Finally use [plt.show()](https://matplotlib.org/3.2.1/api/_as_gen/matplotlib.pyplot.show.html) to display the chart below the cell instead of relying on the automatic notebook output."
      ]
    },
    {
      "cell_type": "code",
      "execution_count": null,
      "metadata": {
        "id": "YnMxyKcc66g7"
      },
      "outputs": [],
      "source": [
        ""
      ]
    },
    {
      "cell_type": "markdown",
      "metadata": {
        "id": "t6sv1D3l66g8"
      },
      "source": [
        "How to add tick formatting for dates on the x-axis. "
      ]
    },
    {
      "cell_type": "code",
      "execution_count": null,
      "metadata": {
        "id": "GwFfDZWA66g8"
      },
      "outputs": [],
      "source": [
        ""
      ]
    },
    {
      "cell_type": "markdown",
      "metadata": {
        "id": "C6Hkjz0766g8"
      },
      "source": [
        "### Bitcoin (BTC) Price v.s. Search Volume"
      ]
    },
    {
      "cell_type": "markdown",
      "metadata": {
        "id": "1yi2RtQj66g8"
      },
      "source": [
        "**Challenge**: Create the same chart for the Bitcoin Prices vs. Search volumes. <br>\n",
        "1. Modify the chart title to read 'Bitcoin News Search vs Resampled Price' <br>\n",
        "2. Change the y-axis label to 'BTC Price' <br>\n",
        "3. Change the y- and x-axis limits to improve the appearance <br>\n",
        "4. Investigate the [linestyles](https://matplotlib.org/3.2.1/api/_as_gen/matplotlib.pyplot.plot.html ) to make the BTC price a dashed line <br>\n",
        "5. Investigate the [marker types](https://matplotlib.org/3.2.1/api/markers_api.html) to make the search datapoints little circles <br>\n",
        "6. Were big increases in searches for Bitcoin accompanied by big increases in the price?"
      ]
    },
    {
      "cell_type": "code",
      "execution_count": null,
      "metadata": {
        "id": "qEfKyaya66g8"
      },
      "outputs": [],
      "source": [
        ""
      ]
    },
    {
      "cell_type": "code",
      "execution_count": null,
      "metadata": {
        "id": "6S4yQUsp66g8"
      },
      "outputs": [],
      "source": [
        ""
      ]
    },
    {
      "cell_type": "markdown",
      "metadata": {
        "id": "TVEbNmAp66g8"
      },
      "source": [
        "### Unemployement Benefits Search vs. Actual Unemployment in the U.S."
      ]
    },
    {
      "cell_type": "markdown",
      "metadata": {
        "id": "r7FCeuJK66g8"
      },
      "source": [
        "**Challenge** Plot the search for \"unemployment benefits\" against the unemployment rate. \n",
        "1. Change the title to: Monthly Search of \"Unemployment Benefits\" in the U.S. vs the U/E Rate <br>\n",
        "2. Change the y-axis label to: FRED U/E Rate <br>\n",
        "3. Change the axis limits <br>\n",
        "4. Add a grey [grid](https://matplotlib.org/3.2.1/api/_as_gen/matplotlib.pyplot.grid.html) to the chart to better see the years and the U/E rate values. Use dashes for the line style<br> \n",
        "5. Can you discern any seasonality in the searches? Is there a pattern? "
      ]
    },
    {
      "cell_type": "code",
      "execution_count": null,
      "metadata": {
        "id": "ow2BmQPP66g9"
      },
      "outputs": [],
      "source": [
        ""
      ]
    },
    {
      "cell_type": "markdown",
      "metadata": {
        "id": "RO1R9b5l66g9"
      },
      "source": [
        "**Challenge**: Calculate the 3-month or 6-month rolling average for the web searches. Plot the 6-month rolling average search data against the actual unemployment. What do you see in the chart? Which line moves first?\n"
      ]
    },
    {
      "cell_type": "code",
      "execution_count": null,
      "metadata": {
        "id": "nCHvPRcG66g9"
      },
      "outputs": [],
      "source": [
        ""
      ]
    },
    {
      "cell_type": "markdown",
      "metadata": {
        "id": "aUtp-LCv66g9"
      },
      "source": [
        "### Including 2020 in Unemployment Charts"
      ]
    },
    {
      "cell_type": "markdown",
      "metadata": {
        "id": "Q7sdn7M766g9"
      },
      "source": [
        "**Challenge**: Read the data in the 'UE Benefits Search vs UE Rate 2004-20.csv' into a DataFrame. Convert the MONTH column to Pandas Datetime objects and then plot the chart. What do you see?"
      ]
    },
    {
      "cell_type": "code",
      "execution_count": null,
      "metadata": {
        "id": "jNs7rIFv66g9"
      },
      "outputs": [],
      "source": [
        ""
      ]
    },
    {
      "cell_type": "code",
      "execution_count": null,
      "metadata": {
        "id": "VLjOK81G66g9"
      },
      "outputs": [],
      "source": [
        ""
      ]
    },
    {
      "cell_type": "code",
      "execution_count": null,
      "metadata": {
        "id": "EJmGeCdf66g9"
      },
      "outputs": [],
      "source": [
        ""
      ]
    }
  ],
  "metadata": {
    "kernelspec": {
      "display_name": "Python 3",
      "language": "python",
      "name": "python3"
    },
    "language_info": {
      "codemirror_mode": {
        "name": "ipython",
        "version": 3
      },
      "file_extension": ".py",
      "mimetype": "text/x-python",
      "name": "python",
      "nbconvert_exporter": "python",
      "pygments_lexer": "ipython3",
      "version": "3.7.3"
    },
    "colab": {
      "name": "Google Trends and Data Visualisation (start).ipynb",
      "provenance": [],
      "include_colab_link": true
    }
  },
  "nbformat": 4,
  "nbformat_minor": 0
}